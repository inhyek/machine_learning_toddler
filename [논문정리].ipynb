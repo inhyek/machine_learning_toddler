{
  "nbformat": 4,
  "nbformat_minor": 0,
  "metadata": {
    "colab": {
      "name": "[논문정리].ipynb",
      "version": "0.3.2",
      "provenance": [],
      "include_colab_link": true
    },
    "kernelspec": {
      "name": "python3",
      "display_name": "Python 3"
    }
  },
  "cells": [
    {
      "cell_type": "markdown",
      "metadata": {
        "id": "view-in-github",
        "colab_type": "text"
      },
      "source": [
        "<a href=\"https://colab.research.google.com/github/inhyek/machine_learning_toddler/blob/master/%5B%EB%85%BC%EB%AC%B8%EC%A0%95%EB%A6%AC%5D.ipynb\" target=\"_parent\"><img src=\"https://colab.research.google.com/assets/colab-badge.svg\" alt=\"Open In Colab\"/></a>"
      ]
    },
    {
      "cell_type": "code",
      "metadata": {
        "id": "33zGjMZ8cBad",
        "colab_type": "code",
        "colab": {}
      },
      "source": [
        ""
      ],
      "execution_count": 0,
      "outputs": []
    },
    {
      "cell_type": "markdown",
      "metadata": {
        "id": "VDjPykUfcEML",
        "colab_type": "text"
      },
      "source": [
        "### StreetStyle: Exploring world-wide clot hing styles from millions of photos\n",
        "by Kevin Matzen, Kavita Bala, Noah Snavely \n",
        "\n",
        "### Abstract\n",
        "In this paper we exploit data(from social media) to understand fashion and style trends wordwide.\n",
        "We present a framework for visual discovery at scale, analyzing clothing and fashion across millions of images of people around the world and spanning several years. \n",
        "We also present a method for discovering visually consistent style clusters that capture useful visual correlations in this massive dataset.\n",
        "Using these tools, we analyze millions of photos to derive visual insight, producing a first-of-its-kind analysis of global and per-city fashion choices and spation-temporal t rends.\n",
        "\n",
        "### 1. Introduction\n",
        "\n",
        "To date, most of these new kinds of big data analyses have been limited to structured data.\n",
        "However, a trememdous cache of unstructured visual information about our world   is locked in images, particularly in images of people. including the billions of photos uploaded to photo-sharing services each day.\n",
        "Our work takes a step towards this vision by analyzing geo-spatial trends in fashion style across tnes of millions of images from social media.\n",
        "\n",
        "In this paper, we focus on clothing, as it is a critical aspect of the visual world and of our daily lives.\n",
        "The ability to analyze and predict trends in fashion is valuable for many applications, including analytics for fashion designers, retailers, advertisers, and manufacturers.\n",
        "This kind of analysis is currently done manually by analysts by, for instance, collecting and inspecting photographs from relevant locations and times.\n",
        "\n",
        "We aim to extract meaningful insights about the geo-spatial and temporal distributions of clothing, fashion, and style around the world through social media analysis at scale.\n",
        "\n",
        "We do so through the combination of (1)millions of photos spanning the world-photos uploaded to social media services by everyday users, (2) a new ages annotated with fashion attributes, and (3) powerful machine learning methods based on deep learning that leverage our dataset.\n",
        "\n",
        "We used two kinds of machine learning mehtods: supervised learning methods that are trained on our annotated dataset to predict clothing attribgutes in new images, followed by unsupervised clustering methods that can automatically detect visual correlations in our data.\n",
        "\n",
        "These machine learning methods allow us to measure clothing features across millions of photos, and then to use these measurements to produce analyses in the form of trend reports and map-based visualizations, enabling new types of visual insight. For instance, our framework can help answer questions such as:\n",
        "\n",
        "- How is the frequency of scarf use in the Us changing over time?\n",
        "- What styles are most specific to particular regions of the world or time of the year?\n",
        "- For a given city, such as LA, what "
      ]
    }
  ]
}